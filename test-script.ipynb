{
 "cells": [
  {
   "cell_type": "code",
   "execution_count": 26,
   "metadata": {},
   "outputs": [
    {
     "data": {
      "text/plain": [
       "'вулиця Волоська, 25, місто Хотин, Яготинський район, Київська область, 01001, Україна'"
      ]
     },
     "execution_count": 26,
     "metadata": {},
     "output_type": "execute_result"
    }
   ],
   "source": [
    "\n",
    "from collections import defaultdict\n",
    "\n",
    "ADDRESS_FIELDS = ('street', 'np_name', 'district_name', 'state_name', 'zip', 'country_name')\n",
    "\n",
    "def get_default_address_format():\n",
    "    # return \"%(street)s %(np_name)s %(district_name)s %(state_name)s %(country_name)s %(zip)s\"\n",
    "    return \"{street} {np_name} {district_name} {state_name} {zip} {country_name}\"\n",
    "\n",
    "def get_address_format():\n",
    "    return get_default_address_format()\n",
    "\n",
    "def display_address(obj):\n",
    "    # TODO:\n",
    "    address_format = get_address_format()\n",
    "    args = defaultdict(str, {\n",
    "        'street': obj['street'] or '',\n",
    "        'np_name': obj['np_name'] or '',\n",
    "        'district_name': obj['district_name'] or '',\n",
    "        'state_name': obj['state_name'] or '',\n",
    "        'zip': obj['zip'] or '',\n",
    "        'country_name': obj['country_name'] or '',\n",
    "\n",
    "    })\n",
    "    list_from_dict = [value for value in args.values() if value !='']\n",
    "\n",
    "    address_formatted = \", \".join(list_from_dict)\n",
    "    # address_formatted = address_format.format(**args)\n",
    "    return address_formatted\n",
    "    # return address_format % args\n",
    "\n",
    "obj = {\n",
    "        'country_name': 'Україна',\n",
    "        # 'state_name': 'місто Київ',\n",
    "        'state_name': 'Київська область',\n",
    "        'district_name': 'Яготинський район',\n",
    "        'np_name': 'місто Хотин',\n",
    "        # 'district_name': False,\n",
    "        # 'np_name': False,\n",
    "        'street': 'вулиця Волоська, 25',\n",
    "        'zip': '01001',\n",
    "}\n",
    "address_formatted = display_address(obj)\n",
    "address_formatted"
   ]
  }
 ],
 "metadata": {
  "kernelspec": {
   "display_name": "Python 3",
   "language": "python",
   "name": "python3"
  },
  "language_info": {
   "codemirror_mode": {
    "name": "ipython",
    "version": 3
   },
   "file_extension": ".py",
   "mimetype": "text/x-python",
   "name": "python",
   "nbconvert_exporter": "python",
   "pygments_lexer": "ipython3",
   "version": "3.7.5"
  }
 },
 "nbformat": 4,
 "nbformat_minor": 2
}
